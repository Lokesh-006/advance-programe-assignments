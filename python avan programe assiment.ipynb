{
 "cells": [
  {
   "cell_type": "markdown",
   "id": "38634197-ec9f-4f8e-8a8f-9fd5da9916b4",
   "metadata": {},
   "source": [
    "#                                     PYTHON ASSIGNMENTS 1"
   ]
  },
  {
   "cell_type": "markdown",
   "id": "e87de891-6f88-43dc-b667-6975fc9d6ffd",
   "metadata": {},
   "source": [
    "# Write a function that takes a list of lists and returns the value of all of the symbols in it, where each symbol adds or takes something from the total score. Symbol values:\n",
    "'#\"  = 5\n",
    "O = 3 X = 1 ! = -1 !! = -3 !!! = -5"
   ]
  },
  {
   "cell_type": "code",
   "execution_count": null,
   "id": "7947e4da-3234-4bdb-896e-9dbe70e84264",
   "metadata": {},
   "outputs": [],
   "source": []
  },
  {
   "cell_type": "code",
   "execution_count": 1,
   "id": "8a580d14-a0e8-44bf-bd55-1a1ffe5ea97f",
   "metadata": {},
   "outputs": [],
   "source": [
    "def check_score(lst):\n",
    "    values = { \"#\":5,\"O\":1,\"X\":1,\"!\":-1,\"!!\":-3,\"!!!\":-5 }\n",
    "    score = 0\n",
    "    for i  in lst:\n",
    "        for j in i:\n",
    "            score = score+values[j]\n",
    "    return score if score > 0 else 0"
   ]
  },
  {
   "cell_type": "code",
   "execution_count": 2,
   "id": "fc86e840-77c6-4bb1-813e-bea2d1f51a1e",
   "metadata": {},
   "outputs": [
    {
     "data": {
      "text/plain": [
       "0"
      ]
     },
     "execution_count": 2,
     "metadata": {},
     "output_type": "execute_result"
    }
   ],
   "source": [
    "check_score([\n",
    "[\"!!!\", \"O\", \"!\"],\n",
    "[\"X\", \"#\", \"!!!\"],\n",
    "[\"!!\", \"X\", \"O\"]\n",
    "])\n",
    "\n"
   ]
  },
  {
   "cell_type": "code",
   "execution_count": 3,
   "id": "ba8e761a-506d-490b-aec9-8f16cdd43510",
   "metadata": {},
   "outputs": [
    {
     "data": {
      "text/plain": [
       "2"
      ]
     },
     "execution_count": 3,
     "metadata": {},
     "output_type": "execute_result"
    }
   ],
   "source": [
    "check_score([\n",
    "[\"#\", \"!\"],\n",
    "[\"!!\", \"X\"]\n",
    "])"
   ]
  },
  {
   "cell_type": "markdown",
   "id": "c5aba7a9-d97a-4b89-be39-1d3482feb5af",
   "metadata": {},
   "source": [
    "# Create a function that takes a variable number of arguments, each argument representing the number of items in a group, and returns the number of permutations (combinations) of items that you could get by taking one item from each group.\n",
    "Examples\n",
    "\n",
    "combinations(2, 3) ➞ 6\n",
    "\n",
    "combinations(3, 7, 4) ➞ 84\n",
    "\n",
    "combinations(2, 3, 4, 5) ➞ 120"
   ]
  },
  {
   "cell_type": "code",
   "execution_count": 25,
   "id": "9bb3011f-a3cb-46e5-855b-28a9ab3a53df",
   "metadata": {},
   "outputs": [],
   "source": [
    "def combinations(*args):\n",
    "    combins = 1\n",
    "    for i in args:\n",
    "        combins *= i\n",
    "    return combins"
   ]
  },
  {
   "cell_type": "code",
   "execution_count": 26,
   "id": "99a00be0-8825-4cb1-a73a-7512897b7046",
   "metadata": {},
   "outputs": [
    {
     "data": {
      "text/plain": [
       "6"
      ]
     },
     "execution_count": 26,
     "metadata": {},
     "output_type": "execute_result"
    }
   ],
   "source": [
    "combinations(2, 3) "
   ]
  },
  {
   "cell_type": "code",
   "execution_count": 29,
   "id": "6a686888-c60a-408b-9c55-7a26108fca0c",
   "metadata": {},
   "outputs": [
    {
     "data": {
      "text/plain": [
       "84"
      ]
     },
     "execution_count": 29,
     "metadata": {},
     "output_type": "execute_result"
    }
   ],
   "source": [
    "combinations(3, 7, 4) "
   ]
  },
  {
   "cell_type": "code",
   "execution_count": 30,
   "id": "4249ce38-a931-4d5d-ac74-7d2acaa87e90",
   "metadata": {},
   "outputs": [
    {
     "data": {
      "text/plain": [
       "120"
      ]
     },
     "execution_count": 30,
     "metadata": {},
     "output_type": "execute_result"
    }
   ],
   "source": [
    "combinations(2, 3, 4, 5)"
   ]
  },
  {
   "cell_type": "markdown",
   "id": "c7de7972-b91c-417c-a3f9-27075734dc1f",
   "metadata": {},
   "source": [
    "# 3.Create a function that takes a string as an argument and returns the Morse code equivalent.\n",
    "This dictionary can be used for coding:\n",
    "\n",
    "char_to_dots = { 'A': '.-', 'B': '-...', 'C': '-.-.', 'D': '-..', 'E': '.', 'F': '..-.', 'G': '--.', 'H': '....', 'I': '..', 'J': '.---', 'K': '-.-', 'L': '.-..', 'M': '--', 'N': '-.', 'O': '---', 'P': '.--.', 'Q': '--.-', 'R': '.-.', 'S': '...', 'T': '-', 'U': '..-', 'V': '...-', 'W': '.--', 'X': '-..-', 'Y': '-.--', 'Z': '--..', ' ': ' ', '0': '-----', '1': '.----', '2': '..---', '3': '...--', '4': '....-', '5': '.....', '6': '-....', '7': '--...', '8': '---..', '9': '----.', '&': '.-...', \"'\": '.----.', '@': '.--.-.', ')': '-.--.-', '(': '-.--.', ':': '---...', ',': '--..--', '=': '-...-', '!': '-.-.--', '.': '.-.-.-', '-': '-....-', '+': '.-.-.', '\"': '.-..-.', '?': '..--..', '/': '-..-.' }"
   ]
  },
  {
   "cell_type": "code",
   "execution_count": 36,
   "id": "33a61533-36bd-4feb-8a3c-4afa7bcbb43b",
   "metadata": {},
   "outputs": [],
   "source": [
    "def Morse_code(string):\n",
    "    char_to_dots = { 'A': '.-', 'B': '-...', 'C': '-.-.', 'D': '-..', 'E': '.', 'F': '..-.', 'G': '--.', 'H': '....', 'I': '..', 'J': '.---', 'K': '-.-', 'L': '.-..', 'M': '--', 'N': '-.', 'O': '---', 'P': '.--.', 'Q': '--.-', 'R': '.-.', 'S': '...', 'T': '-', 'U': '..-', 'V': '...-', 'W': '.--', 'X': '-..-', 'Y': '-.--', 'Z': '--..', ' ': ' ', '0': '-----', '1': '.----', '2': '..---', '3': '...--', '4': '....-', '5': '.....', '6': '-....', '7': '--...', '8': '---..', '9': '----.', '&': '.-...', \"'\": '.----.', '@': '.--.-.', ')': '-.--.-', '(': '-.--.', ':': '---...', ',': '--..--', '=': '-...-', '!': '-.-.--', '.': '.-.-.-', '-': '-....-', '+': '.-.-.', '\"': '.-..-.', '?': '..--..', '/': '-..-.' }\n",
    "    encde = \" \"\n",
    "    for i in string:\n",
    "        encde = encde + char_to_dots[i] + \" \"\n",
    "    return encde\n",
    "    "
   ]
  },
  {
   "cell_type": "code",
   "execution_count": 37,
   "id": "37fa8080-afdb-40d4-9d9c-7048f91a4d01",
   "metadata": {},
   "outputs": [
    {
     "data": {
      "text/plain": [
       "' . -.. .- -... -... .. -   -.-. .... .- .-.. .-.. . -. --. . '"
      ]
     },
     "execution_count": 37,
     "metadata": {},
     "output_type": "execute_result"
    }
   ],
   "source": [
    "Morse_code(\"EDABBIT CHALLENGE\")"
   ]
  },
  {
   "cell_type": "code",
   "execution_count": 38,
   "id": "9e0c4e01-b801-4eb5-b32e-841ea1a5c048",
   "metadata": {},
   "outputs": [
    {
     "data": {
      "text/plain": [
       "' .... . .-.. .--.   -- .   -.-.-- '"
      ]
     },
     "execution_count": 38,
     "metadata": {},
     "output_type": "execute_result"
    }
   ],
   "source": [
    "Morse_code(\"HELP ME !\")"
   ]
  },
  {
   "cell_type": "markdown",
   "id": "1464695a-be7d-4d2f-bdcf-a1508505906b",
   "metadata": {},
   "source": [
    "# 4. Write a function that takes a number and returns True if it is a prime; False otherwise. The number can be 2^64-1 (2 to the power of 63, not XOR). With the standard technique it would be O(2^64-1), which is much too large for the 10 second time limit.\n",
    "Examples\n",
    "\n",
    "prime(7) ➞ True\n",
    "\n",
    "prime(56963) ➞ True\n",
    "\n",
    "prime(5151512515524) ➞ False"
   ]
  },
  {
   "cell_type": "code",
   "execution_count": 39,
   "id": "9e7b32ea-7be4-45cf-91ff-805555be6421",
   "metadata": {},
   "outputs": [
    {
     "name": "stdout",
     "output_type": "stream",
     "text": [
      "CPU times: user 884 µs, sys: 0 ns, total: 884 µs\n",
      "Wall time: 899 µs\n"
     ]
    },
    {
     "data": {
      "text/plain": [
       "False"
      ]
     },
     "execution_count": 39,
     "metadata": {},
     "output_type": "execute_result"
    }
   ],
   "source": [
    "%%time\n",
    "def prime(num):\n",
    "    prime = True\n",
    "    if num%2 == 0:\n",
    "        return False\n",
    "    \n",
    "    for i in range(3,int(num/2)+1,2):\n",
    "        if num%i == 0:\n",
    "            return False\n",
    "\n",
    "    return True\n",
    "\n",
    "prime(7)\n",
    "prime(56963)\n",
    "prime(5151512515524)"
   ]
  },
  {
   "cell_type": "markdown",
   "id": "b38c4161-6ee6-4d8a-8780-42f73c3b2a56",
   "metadata": {},
   "source": [
    "# 5. Create a function that converts a word to a bitstring and then to a boolean list based on the following criteria:\n",
    "\n",
    "# 6. Locate the position of the letter in the English alphabet (from 1 to 26).\n",
    "\n",
    "# 7. Odd positions will be represented as 1 and 0 otherwise.\n",
    "\n",
    "# 8. Convert the represented positions to boolean values, 1 for True and 0 for False.\n",
    "\n",
    "# 9. Store the conversions into an array."
   ]
  },
  {
   "cell_type": "code",
   "execution_count": 40,
   "id": "02a7f03e-b5f6-4fde-a9be-a57a97743ebd",
   "metadata": {},
   "outputs": [],
   "source": [
    "def Boolean_list(string):\n",
    "    lst = []\n",
    "    for i in string:\n",
    "        # identify the position of alphabet by subtracting ASCII value of 'a' from its ASCII value.\n",
    "        # Then check if the position is even or odd by dividing the position by 2.\n",
    "        # If remainder is 1, then typecasting to bool will automatically change it to True.\n",
    "        # If remainder is 0 then typecasting to bool which change it to False\n",
    "        lst.append(bool((ord(i.casefold()) - ord('a') + 1)%2))\n",
    "    return lst"
   ]
  },
  {
   "cell_type": "code",
   "execution_count": 41,
   "id": "79543080-995a-4700-a909-dfc011431031",
   "metadata": {},
   "outputs": [
    {
     "data": {
      "text/plain": [
       "[False,\n",
       " False,\n",
       " True,\n",
       " True,\n",
       " False,\n",
       " True,\n",
       " True,\n",
       " False,\n",
       " True,\n",
       " True,\n",
       " False,\n",
       " True,\n",
       " True]"
      ]
     },
     "execution_count": 41,
     "metadata": {},
     "output_type": "execute_result"
    }
   ],
   "source": [
    "Boolean_list(\"this is works\")"
   ]
  },
  {
   "cell_type": "code",
   "execution_count": 42,
   "id": "75d51124-ceff-48f1-8452-9c00b9075871",
   "metadata": {},
   "outputs": [
    {
     "data": {
      "text/plain": [
       "[True, False, True, True, False, True, False]"
      ]
     },
     "execution_count": 42,
     "metadata": {},
     "output_type": "execute_result"
    }
   ],
   "source": [
    "Boolean_list(\"ineuron\")"
   ]
  },
  {
   "cell_type": "code",
   "execution_count": 52,
   "id": "a7002c51-1dca-4e66-8ae0-2943f302476e",
   "metadata": {},
   "outputs": [
    {
     "name": "stdin",
     "output_type": "stream",
     "text": [
      "Check your name for boolean list : lokesh\n"
     ]
    },
    {
     "data": {
      "text/plain": [
       "[1, 1, 1, 1, 1, 1]"
      ]
     },
     "execution_count": 52,
     "metadata": {},
     "output_type": "execute_result"
    }
   ],
   "source": [
    "def lokesh(n):\n",
    "    x = []\n",
    "    for i in n:\n",
    "        x.append(bool((ord(i.casefold()) -ord(\"a\")+1))%2 )\n",
    "    return x\n",
    "n = input(\"Check your name for boolean list :\")\n",
    "lokesh(n)"
   ]
  },
  {
   "cell_type": "code",
   "execution_count": null,
   "id": "79b72552-6556-4f79-9c05-0f2918642c3d",
   "metadata": {},
   "outputs": [],
   "source": []
  }
 ],
 "metadata": {
  "kernelspec": {
   "display_name": "Python 3 (ipykernel)",
   "language": "python",
   "name": "python3"
  },
  "language_info": {
   "codemirror_mode": {
    "name": "ipython",
    "version": 3
   },
   "file_extension": ".py",
   "mimetype": "text/x-python",
   "name": "python",
   "nbconvert_exporter": "python",
   "pygments_lexer": "ipython3",
   "version": "3.10.6"
  }
 },
 "nbformat": 4,
 "nbformat_minor": 5
}
