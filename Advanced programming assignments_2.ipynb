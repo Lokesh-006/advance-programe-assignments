{
 "cells": [
  {
   "cell_type": "markdown",
   "id": "d588ab85",
   "metadata": {},
   "source": [
    "# Advance Programming Assignment_2"
   ]
  },
  {
   "cell_type": "markdown",
   "id": "5b7f077f",
   "metadata": {},
   "source": [
    "   ##     1. Write a function that takes a positive integer num and calculates how many\n",
    "        dots exist in a pentagonal shape around the center dot on the Nth iteration.\n",
    "        In the image below you can see the first iteration is only a single dot. On the\n",
    "        second, there are 6 dots. On the third, there are 16 dots, and on the fourth\n",
    "        there are 31 dots.\n",
    "\n",
    "        Return the number of dots that exist in the whole pentagon on the Nth\n",
    "        iteration."
   ]
  },
  {
   "cell_type": "code",
   "execution_count": 4,
   "id": "d3b4daed",
   "metadata": {},
   "outputs": [],
   "source": [
    " def pentagonal(num):\n",
    "    l=[1]\n",
    "    for i in range(num):\n",
    "        l.append(5*i)\n",
    "    print(sum(l))"
   ]
  },
  {
   "cell_type": "code",
   "execution_count": 8,
   "id": "146f08c3",
   "metadata": {},
   "outputs": [
    {
     "name": "stdout",
     "output_type": "stream",
     "text": [
      "1\n",
      "6\n",
      "16\n",
      "141\n"
     ]
    }
   ],
   "source": [
    "# Examples:\n",
    "\n",
    "\n",
    "pentagonal(1)\n",
    "pentagonal(2) \n",
    "pentagonal(3) \n",
    "pentagonal(8)"
   ]
  },
  {
   "cell_type": "code",
   "execution_count": 10,
   "id": "a7fe3d8b",
   "metadata": {},
   "outputs": [
    {
     "name": "stdout",
     "output_type": "stream",
     "text": [
      "31\n"
     ]
    }
   ],
   "source": [
    "pentagonal(4)"
   ]
  },
  {
   "cell_type": "code",
   "execution_count": null,
   "id": "2adfebf4",
   "metadata": {},
   "outputs": [],
   "source": []
  },
  {
   "cell_type": "markdown",
   "id": "f2d2d60a",
   "metadata": {},
   "source": [
    "## 2. Make a function that encrypts a given input with these steps:\n",
    "Input: 'apple'\n",
    "\n",
    "\n",
    "Step 1: Reverse the input: 'elppa'\n",
    "\n",
    "\n",
    "Step 2: Replace all vowels using the following chart:\n",
    "\n",
    "    a = 0\n",
    "    e = 1\n",
    "    i = 2\n",
    "    o = 2\n",
    "    u = 3\n",
    "    '1lpp0'\n",
    "\n",
    "Step 3: Add 'aca' to the end of the word:'1lpp0aca'\n",
    "Output: '1lpp0aca'"
   ]
  },
  {
   "cell_type": "code",
   "execution_count": 12,
   "id": "89a6aed4",
   "metadata": {},
   "outputs": [],
   "source": [
    "def encrypt(string):\n",
    "    # Step 1: Reverse the input\n",
    "    reversed_string = string[::-1]\n",
    "\n",
    "    # Step 2: Replace vowels\n",
    "    mapping = {\"a\": \"0\", \"e\": \"1\", \"i\": \"2\", \"o\": \"2\", \"u\": \"3\"}\n",
    "    encrypted_string = \"\"\n",
    "    for i in reversed_string:\n",
    "        if i.lower()in mapping:\n",
    "            encrypted_string += mapping[i.lower()]\n",
    "            \n",
    "        else:\n",
    "            encrypted_string += i\n",
    "\n",
    "    return encrypted_string + 'aca'\n",
    "            "
   ]
  },
  {
   "cell_type": "code",
   "execution_count": 18,
   "id": "acacf405",
   "metadata": {},
   "outputs": [
    {
     "data": {
      "text/plain": [
       "'1lpp0aca'"
      ]
     },
     "execution_count": 18,
     "metadata": {},
     "output_type": "execute_result"
    }
   ],
   "source": [
    "encrypt('apple')"
   ]
  },
  {
   "cell_type": "code",
   "execution_count": 19,
   "id": "f318a35a",
   "metadata": {},
   "outputs": [
    {
     "data": {
      "text/plain": [
       "'0n0n0baca'"
      ]
     },
     "execution_count": 19,
     "metadata": {},
     "output_type": "execute_result"
    }
   ],
   "source": [
    "encrypt('banana') \n"
   ]
  },
  {
   "cell_type": "code",
   "execution_count": 20,
   "id": "fde79816",
   "metadata": {},
   "outputs": [
    {
     "data": {
      "text/plain": [
       "'0c0r0kaca'"
      ]
     },
     "execution_count": 20,
     "metadata": {},
     "output_type": "execute_result"
    }
   ],
   "source": [
    "encrypt('karaca')"
   ]
  },
  {
   "cell_type": "code",
   "execution_count": 21,
   "id": "e30848d9",
   "metadata": {},
   "outputs": [
    {
     "data": {
      "text/plain": [
       "'k0r3baca'"
      ]
     },
     "execution_count": 21,
     "metadata": {},
     "output_type": "execute_result"
    }
   ],
   "source": [
    "encrypt('burak')"
   ]
  },
  {
   "cell_type": "code",
   "execution_count": 22,
   "id": "d9777b81",
   "metadata": {},
   "outputs": [
    {
     "data": {
      "text/plain": [
       "'0c0pl0aca'"
      ]
     },
     "execution_count": 22,
     "metadata": {},
     "output_type": "execute_result"
    }
   ],
   "source": [
    "encrypt('alpaca')"
   ]
  },
  {
   "cell_type": "code",
   "execution_count": null,
   "id": "1599340f",
   "metadata": {},
   "outputs": [],
   "source": []
  },
  {
   "cell_type": "markdown",
   "id": "4949cb05",
   "metadata": {},
   "source": [
    "## 3. Given the month and year as numbers, return whether that month contains a Friday 13th.(i.e You can check Python datetime module)"
   ]
  },
  {
   "cell_type": "code",
   "execution_count": 31,
   "id": "49a8038c",
   "metadata": {},
   "outputs": [],
   "source": [
    "import datetime\n",
    "def has_friday_13(mm,yy):\n",
    "    \"\"\" Return the day of the week represented by the date.\n",
    "Monday == 0 ... Sunday == 6 \"\"\"\n",
    "    # Friday==4\n",
    "    df=datetime.datetime(yy,mm,13).weekday()==4\n",
    "    return df"
   ]
  },
  {
   "cell_type": "code",
   "execution_count": 32,
   "id": "a75e038e",
   "metadata": {},
   "outputs": [
    {
     "data": {
      "text/plain": [
       "True"
      ]
     },
     "execution_count": 32,
     "metadata": {},
     "output_type": "execute_result"
    }
   ],
   "source": [
    "has_friday_13(3, 2020) "
   ]
  },
  {
   "cell_type": "code",
   "execution_count": 33,
   "id": "83b6e46d",
   "metadata": {},
   "outputs": [
    {
     "data": {
      "text/plain": [
       "True"
      ]
     },
     "execution_count": 33,
     "metadata": {},
     "output_type": "execute_result"
    }
   ],
   "source": [
    "has_friday_13(10, 2017)\n"
   ]
  },
  {
   "cell_type": "code",
   "execution_count": 34,
   "id": "26233ef5",
   "metadata": {},
   "outputs": [
    {
     "data": {
      "text/plain": [
       "False"
      ]
     },
     "execution_count": 34,
     "metadata": {},
     "output_type": "execute_result"
    }
   ],
   "source": [
    "has_friday_13(1, 1985) "
   ]
  },
  {
   "cell_type": "code",
   "execution_count": null,
   "id": "817e2e69",
   "metadata": {},
   "outputs": [],
   "source": []
  },
  {
   "cell_type": "markdown",
   "id": "0940b783",
   "metadata": {},
   "source": [
    "###   4.Given a list of words in the singular form, return a set of those words in the plural form if they appear more than once in the list."
   ]
  },
  {
   "cell_type": "code",
   "execution_count": 49,
   "id": "22e5c41d",
   "metadata": {},
   "outputs": [],
   "source": [
    "def pluralize(words):\n",
    "    word_counts = {}\n",
    "    for word in words:\n",
    "        if word in word_counts:\n",
    "            word_counts[word] += 1\n",
    "        else:\n",
    "            word_counts[word] = 1\n",
    "\n",
    "    plural_words = set()\n",
    "    for word, count in word_counts.items():\n",
    "        if count > 1:\n",
    "            if word.endswith(\"s\") or word.endswith(\"x\") or word.endswith(\"z\") or \\\n",
    "               word.endswith(\"ch\") or word.endswith(\"sh\"):\n",
    "                plural_words.add(word + \"es\")\n",
    "            elif word.endswith(\"y\") and len(word) > 1 and word[-2] not in \"aeiou\":\n",
    "                plural_words.add(word[:-1] + \"ies\")\n",
    "            else:\n",
    "                plural_words.add(word + \"s\")\n",
    "\n",
    "    return plural_words"
   ]
  },
  {
   "cell_type": "code",
   "execution_count": 50,
   "id": "18997e7c",
   "metadata": {},
   "outputs": [
    {
     "data": {
      "text/plain": [
       "{'cows'}"
      ]
     },
     "execution_count": 50,
     "metadata": {},
     "output_type": "execute_result"
    }
   ],
   "source": [
    "pluralize(['cow', 'pig' ,'cow','cow'])"
   ]
  },
  {
   "cell_type": "markdown",
   "id": "ade2a728",
   "metadata": {},
   "source": [
    "## 5. Write a regular expression that will help us count how many bad cookies are produced every day. You must use RegEx negative lookbehind."
   ]
  },
  {
   "cell_type": "code",
   "execution_count": 54,
   "id": "458d87ce",
   "metadata": {},
   "outputs": [
    {
     "name": "stdout",
     "output_type": "stream",
     "text": [
      "2\n"
     ]
    }
   ],
   "source": [
    "import re\n",
    "\n",
    "lst = [\"bad cookie\", \"good cookie\", \"bad cookie\", \"good cookie\", \"good cookie\"]\n",
    "pattern = r\"(?<!good )cookie\"\n",
    "\n",
    "num_bad_cookies = len(re.findall(pattern, \", \".join(lst)))\n",
    "print(num_bad_cookies)  \n"
   ]
  },
  {
   "cell_type": "code",
   "execution_count": null,
   "id": "3af9ef33",
   "metadata": {},
   "outputs": [],
   "source": []
  },
  {
   "cell_type": "markdown",
   "id": "ae26abf2",
   "metadata": {},
   "source": [
    "@@@@ Thank you@@@"
   ]
  },
  {
   "cell_type": "code",
   "execution_count": null,
   "id": "a9e1ee65",
   "metadata": {},
   "outputs": [],
   "source": []
  }
 ],
 "metadata": {
  "kernelspec": {
   "display_name": "Python 3 (ipykernel)",
   "language": "python",
   "name": "python3"
  },
  "language_info": {
   "codemirror_mode": {
    "name": "ipython",
    "version": 3
   },
   "file_extension": ".py",
   "mimetype": "text/x-python",
   "name": "python",
   "nbconvert_exporter": "python",
   "pygments_lexer": "ipython3",
   "version": "3.9.13"
  }
 },
 "nbformat": 4,
 "nbformat_minor": 5
}
